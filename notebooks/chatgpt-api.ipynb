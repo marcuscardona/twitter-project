{
 "cells": [
  {
   "cell_type": "code",
   "execution_count": 54,
   "metadata": {},
   "outputs": [],
   "source": [
    "import tweepy\n",
    "import pandas as pd\n",
    "from pyspark.sql import functions as F\n",
    "import numpy as np\n",
    "import json\n",
    "from dotenv import load_dotenv\n",
    "import os\n",
    "import datetime\n",
    "import openai\n",
    "from pathlib import Path\n",
    "import random"
   ]
  },
  {
   "cell_type": "code",
   "execution_count": 65,
   "metadata": {},
   "outputs": [],
   "source": [
    "lista = ['a', 'b', 'c', 1, 4, 67 ,2, 'd', '1']\n"
   ]
  },
  {
   "cell_type": "code",
   "execution_count": 70,
   "metadata": {},
   "outputs": [
    {
     "data": {
      "text/plain": [
       "'a'"
      ]
     },
     "execution_count": 70,
     "metadata": {},
     "output_type": "execute_result"
    }
   ],
   "source": [
    "random.choice(lista)"
   ]
  },
  {
   "cell_type": "code",
   "execution_count": 10,
   "metadata": {},
   "outputs": [],
   "source": [
    "load_dotenv()\n",
    "openai.api_key=os.getenv(\"OPENAI_API_KEY\")"
   ]
  },
  {
   "cell_type": "code",
   "execution_count": 73,
   "metadata": {},
   "outputs": [],
   "source": [
    "class openaiPrompt():\n",
    "\n",
    "    def __init__(self):\n",
    "        load_dotenv()\n",
    "        self._api_key = os.getenv(\"OPENAI_API_KEY\")\n",
    "        openai.api_key = self._api_key\n",
    "\n",
    "    def read_prompt(self, filename):\n",
    "        '''\n",
    "        Looks in prompts/ directory for a text file. Pass in file name only, not extension.\n",
    "        Example: prompts/hello-world.txt -> read_prompt('hello-world')\n",
    "\n",
    "        Authors:\n",
    "            @OthersideAI\n",
    "        '''\n",
    "        return Path('../prompts/{0}.txt'.format(filename)).read_text(encoding='UTF-8')\n",
    "\n",
    "    def get_movie(self):\n",
    "        \"\"\"\n",
    "        Returns a Davinci-003 \n",
    "        \"\"\"\n",
    "        movie_prompt = self.read_prompt('movie_script')\n",
    "        movie_generated = movie_prompt.format(\n",
    "            random.choice(self.read_prompt('genres').split('\\n'))\n",
    "          , random.choice(self.read_prompt('directors').split('\\n'))\n",
    "          , random.choice(self.read_prompt('protagonist_name').split('\\n'))\n",
    "          , random.choice(self.read_prompt('protagonist_surname').split('\\n'))\n",
    "          , random.choice(self.read_prompt('genre').split('\\n'))\n",
    "          , random.choice(self.read_prompt('genre').split('\\n'))\n",
    "          , random.choice(self.read_prompt('adjectives').split('\\n'))\n",
    "          , random.choice(self.read_prompt('occupations').split('\\n'))\n",
    "          , random.choice(self.read_prompt('ocuppation_complements').split('\\n'))\n",
    "        )\n",
    "        return movie_generated"
   ]
  },
  {
   "cell_type": "code",
   "execution_count": 74,
   "metadata": {},
   "outputs": [],
   "source": [
    "openai = openaiPrompt()"
   ]
  },
  {
   "cell_type": "code",
   "execution_count": 105,
   "metadata": {},
   "outputs": [],
   "source": [
    "lista = openai.read_prompt('protagonist_name')"
   ]
  },
  {
   "cell_type": "code",
   "execution_count": 113,
   "metadata": {},
   "outputs": [],
   "source": [
    "lista2 = lista.split('\\n')"
   ]
  },
  {
   "cell_type": "code",
   "execution_count": 120,
   "metadata": {},
   "outputs": [
    {
     "data": {
      "text/plain": [
       "'paulo'"
      ]
     },
     "execution_count": 120,
     "metadata": {},
     "output_type": "execute_result"
    }
   ],
   "source": [
    "random.choice(lista2)"
   ]
  },
  {
   "cell_type": "code",
   "execution_count": 109,
   "metadata": {},
   "outputs": [
    {
     "data": {
      "text/plain": [
       "'l'"
      ]
     },
     "execution_count": 109,
     "metadata": {},
     "output_type": "execute_result"
    }
   ],
   "source": [
    "random.choice(lista)"
   ]
  },
  {
   "cell_type": "code",
   "execution_count": 53,
   "metadata": {},
   "outputs": [
    {
     "name": "stdout",
     "output_type": "stream",
     "text": [
      "Escreva um filme de a no estilo de b.\n",
      "            \n",
      "Informações sobre o filme:\n",
      "Herói: c d, e f\n",
      "Traços do Herói: g\n",
      "Vilão: h\n",
      "Trama: lockdown covid-19\n",
      "\n"
     ]
    }
   ],
   "source": [
    "openai.get_movie()"
   ]
  },
  {
   "cell_type": "code",
   "execution_count": 31,
   "metadata": {},
   "outputs": [
    {
     "data": {
      "text/plain": [
       "'Escreva um filme de {0} no estilo de {1}.\\n            \\nInformaÃ§Ãµes sobre o filme:\\nHerÃ³i: {nome_heroi} {sobrenome_heroi}, {cargo_politico} {estado}\\nTraÃ§os do HerÃ³i: {traÃ§os}\\nVilÃ£o: {vilÃ£o}\\nTrama: lockdown covid-19\\n'"
      ]
     },
     "execution_count": 31,
     "metadata": {},
     "output_type": "execute_result"
    }
   ],
   "source": [
    "openai.get_movie()"
   ]
  },
  {
   "cell_type": "code",
   "execution_count": 21,
   "metadata": {},
   "outputs": [],
   "source": [
    "def generate_prompt(genero, nome_heroi, sobrenome_heroi, cargo_politico, estado, traços, vilão):\n",
    "    return f\"\"\"\n",
    "    Escreva um filme de {genero} no estilo de {Direto}.\n",
    "    Informações sobre o filme:\n",
    "    Herói: {nome_heroi} {sobrenome_heroi}, {cargo_politico} {estado}\n",
    "    Traços do Herói: {traços}\n",
    "    Vilão: {vilão}\n",
    "    Trama: 'lockdown covid-19\n",
    "    \"\"\"\n"
   ]
  },
  {
   "cell_type": "code",
   "execution_count": 20,
   "metadata": {},
   "outputs": [
    {
     "ename": "NameError",
     "evalue": "name 'genero' is not defined",
     "output_type": "error",
     "traceback": [
      "\u001b[1;31m---------------------------------------------------------------------------\u001b[0m",
      "\u001b[1;31mNameError\u001b[0m                                 Traceback (most recent call last)",
      "Cell \u001b[1;32mIn[20], line 2\u001b[0m\n\u001b[0;32m      1\u001b[0m \u001b[38;5;124mf\u001b[39m\u001b[38;5;124m\"\"\"\u001b[39m\n\u001b[1;32m----> 2\u001b[0m \u001b[38;5;124mEscreva um filme de \u001b[39m\u001b[38;5;132;01m{\u001b[39;00mgenero\u001b[38;5;132;43;01m}\u001b[39;49;00m\u001b[38;5;124m no estilo de Quentin Tarantino.\u001b[39m\n\u001b[0;32m      3\u001b[0m \u001b[38;5;124mInformações sobre o filme:\u001b[39m\n\u001b[0;32m      4\u001b[0m \u001b[38;5;124mHerói: \u001b[39m\u001b[38;5;132;01m{\u001b[39;00mnome_heroi\u001b[38;5;132;01m}\u001b[39;00m\u001b[38;5;124m \u001b[39m\u001b[38;5;132;01m{\u001b[39;00msobrenome_heroi\u001b[38;5;132;01m}\u001b[39;00m\u001b[38;5;124m, \u001b[39m\u001b[38;5;132;01m{\u001b[39;00mcargo_politico\u001b[38;5;132;01m}\u001b[39;00m\u001b[38;5;124m \u001b[39m\u001b[38;5;132;01m{\u001b[39;00mestado\u001b[38;5;132;01m}\u001b[39;00m\n\u001b[0;32m      5\u001b[0m \u001b[38;5;124mTraços do Herói: \u001b[39m\u001b[38;5;132;01m{\u001b[39;00mtraços\u001b[38;5;132;01m}\u001b[39;00m\n\u001b[0;32m      6\u001b[0m \u001b[38;5;124mVilão: \u001b[39m\u001b[38;5;132;01m{\u001b[39;00mvilão\u001b[38;5;132;01m}\u001b[39;00m\n\u001b[0;32m      7\u001b[0m \u001b[38;5;124mTrama: \u001b[39m\u001b[38;5;124m'\u001b[39m\u001b[38;5;124mlockdown covid-19\u001b[39m\n\u001b[0;32m      8\u001b[0m \u001b[38;5;124m\"\"\"\u001b[39m\n",
      "\u001b[1;31mNameError\u001b[0m: name 'genero' is not defined"
     ]
    }
   ],
   "source": [
    "\n",
    "f\"\"\"\n",
    "Escreva um filme de {genero} no estilo de Quentin Tarantino.\n",
    "Informações sobre o filme:\n",
    "Herói: {nome_heroi} {sobrenome_heroi}, {cargo_politico} {estado}\n",
    "Traços do Herói: {traços}\n",
    "{Vilão}: {vilão}\n",
    "Trama: 'lockdown covid-19\n",
    "\"\"\""
   ]
  },
  {
   "cell_type": "code",
   "execution_count": 3,
   "metadata": {},
   "outputs": [
    {
     "name": "stdout",
     "output_type": "stream",
     "text": [
      "Help on method create in module openai.api_resources.completion:\n",
      "\n",
      "create(*args, **kwargs) method of builtins.type instance\n",
      "    Creates a new completion for the provided prompt and parameters.\n",
      "    \n",
      "    See https://beta.openai.com/docs/api-reference/completions/create for a list\n",
      "    of valid parameters.\n",
      "\n"
     ]
    }
   ],
   "source": [
    "help(openai.Completion.create)"
   ]
  },
  {
   "cell_type": "code",
   "execution_count": 22,
   "metadata": {},
   "outputs": [],
   "source": [
    "response = openai.Completion.create(\n",
    "              model=\"text-davinci-003\"\n",
    "            , prompt=generate_prompt('romance', 'paulo', 'camara', 'governador', 'de Pernambuco', 'mal', 'gugu liberato')\n",
    "            , max_tokens = 1000 \n",
    "            , temperature=0.6)"
   ]
  },
  {
   "cell_type": "code",
   "execution_count": 23,
   "metadata": {},
   "outputs": [
    {
     "name": "stdout",
     "output_type": "stream",
     "text": [
      "\n",
      "Título: \"Lockdown Love\"\n",
      "\n",
      "Sinopse: Quando o governador Paulo Camara é forçado a implementar um lockdown para conter a pandemia covid-19, ele se vê no meio de uma guerra entre o bem e o mal. O vilão Gugu Liberato tem planos misteriosos para aproveitar o caos, e Paulo deve descobrir o que ele está tramando antes que seja tarde demais. Durante sua jornada, Paulo descobre que o amor é a força que lhe dá a força para lutar contra Gugu e proteger o seu povo.\n"
     ]
    }
   ],
   "source": [
    "print(response.choices[0].text)"
   ]
  },
  {
   "cell_type": "code",
   "execution_count": 16,
   "metadata": {},
   "outputs": [
    {
     "data": {
      "text/plain": [
       "'\\n\\nTítulo: Terror no Maranhão\\n\\nSin'"
      ]
     },
     "execution_count": 16,
     "metadata": {},
     "output_type": "execute_result"
    }
   ],
   "source": [
    "response.choices[0].text"
   ]
  },
  {
   "cell_type": "code",
   "execution_count": 8,
   "metadata": {},
   "outputs": [
    {
     "data": {
      "text/plain": [
       "['__class__',\n",
       " '__class_getitem__',\n",
       " '__contains__',\n",
       " '__copy__',\n",
       " '__deepcopy__',\n",
       " '__delattr__',\n",
       " '__delitem__',\n",
       " '__dict__',\n",
       " '__dir__',\n",
       " '__doc__',\n",
       " '__eq__',\n",
       " '__format__',\n",
       " '__ge__',\n",
       " '__getattr__',\n",
       " '__getattribute__',\n",
       " '__getitem__',\n",
       " '__gt__',\n",
       " '__hash__',\n",
       " '__init__',\n",
       " '__init_subclass__',\n",
       " '__ior__',\n",
       " '__iter__',\n",
       " '__le__',\n",
       " '__len__',\n",
       " '__lt__',\n",
       " '__module__',\n",
       " '__ne__',\n",
       " '__new__',\n",
       " '__or__',\n",
       " '__reduce__',\n",
       " '__reduce_ex__',\n",
       " '__repr__',\n",
       " '__reversed__',\n",
       " '__ror__',\n",
       " '__setattr__',\n",
       " '__setitem__',\n",
       " '__setstate__',\n",
       " '__sizeof__',\n",
       " '__str__',\n",
       " '__subclasshook__',\n",
       " '__weakref__',\n",
       " '_previous',\n",
       " '_response_ms',\n",
       " '_retrieve_params',\n",
       " 'api_base',\n",
       " 'api_base_override',\n",
       " 'api_key',\n",
       " 'api_type',\n",
       " 'api_version',\n",
       " 'arequest',\n",
       " 'clear',\n",
       " 'construct_from',\n",
       " 'copy',\n",
       " 'engine',\n",
       " 'fromkeys',\n",
       " 'get',\n",
       " 'items',\n",
       " 'keys',\n",
       " 'openai_id',\n",
       " 'organization',\n",
       " 'pop',\n",
       " 'popitem',\n",
       " 'refresh_from',\n",
       " 'request',\n",
       " 'response_ms',\n",
       " 'setdefault',\n",
       " 'to_dict',\n",
       " 'to_dict_recursive',\n",
       " 'typed_api_type',\n",
       " 'update',\n",
       " 'values']"
      ]
     },
     "execution_count": 8,
     "metadata": {},
     "output_type": "execute_result"
    }
   ],
   "source": [
    "dir(response)"
   ]
  }
 ],
 "metadata": {
  "interpreter": {
   "hash": "0839a42161d1c904b8dc407b63706b4517a72f290d92ffdd022b88fcc03829a8"
  },
  "kernelspec": {
   "display_name": "Python 3.9.7 ('venv': venv)",
   "language": "python",
   "name": "python3"
  },
  "language_info": {
   "codemirror_mode": {
    "name": "ipython",
    "version": 3
   },
   "file_extension": ".py",
   "mimetype": "text/x-python",
   "name": "python",
   "nbconvert_exporter": "python",
   "pygments_lexer": "ipython3",
   "version": "3.9.7"
  },
  "orig_nbformat": 4
 },
 "nbformat": 4,
 "nbformat_minor": 2
}
