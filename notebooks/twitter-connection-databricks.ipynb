{
 "cells": [
  {
   "cell_type": "code",
   "execution_count": 85,
   "metadata": {},
   "outputs": [],
   "source": [
    "import tweepy\n",
    "import pandas as pd\n",
    "from pyspark.sql import functions as F\n",
    "import numpy as np\n",
    "import json\n",
    "from dotenv import load_dotenv\n",
    "import os"
   ]
  },
  {
   "cell_type": "code",
   "execution_count": 86,
   "metadata": {},
   "outputs": [],
   "source": [
    "load_dotenv()\n",
    "\n",
    "# Inicializar o cliente do Tweepy\n",
    "client = tweepy.Client(consumer_key=os.getenv('TWEEPY_CONSUMER_KEY')\n",
    "                     , consumer_secret=os.getenv('TWEEPY_CONSUMER_SECRET')\n",
    "                     , bearer_token=os.getenv('TWEEPY_BEARER_TOKEN')\n",
    "                     , access_token=os.getenv('TWEEPY_ACCESS_TOKEN')\n",
    "                     , access_token_secret=os.getenv('TWEEPY_ACCESS_TOKEN_SECRET')\n",
    "                     , wait_on_rate_limit=True)"
   ]
  },
  {
   "cell_type": "code",
   "execution_count": 81,
   "metadata": {},
   "outputs": [
    {
     "data": {
      "text/html": [
       "<div>\n",
       "<style scoped>\n",
       "    .dataframe tbody tr th:only-of-type {\n",
       "        vertical-align: middle;\n",
       "    }\n",
       "\n",
       "    .dataframe tbody tr th {\n",
       "        vertical-align: top;\n",
       "    }\n",
       "\n",
       "    .dataframe thead th {\n",
       "        text-align: right;\n",
       "    }\n",
       "</style>\n",
       "<table border=\"1\" class=\"dataframe\">\n",
       "  <thead>\n",
       "    <tr style=\"text-align: right;\">\n",
       "      <th></th>\n",
       "      <th>ID</th>\n",
       "      <th>Tweet</th>\n",
       "      <th>Autor</th>\n",
       "    </tr>\n",
       "  </thead>\n",
       "  <tbody>\n",
       "    <tr>\n",
       "      <th>0</th>\n",
       "      <td>1619485981350203393</td>\n",
       "      <td>Coisas que pretendo comprar esse ano: um baixo...</td>\n",
       "      <td>Rafael</td>\n",
       "    </tr>\n",
       "    <tr>\n",
       "      <th>1</th>\n",
       "      <td>1619475070879174656</td>\n",
       "      <td>Blessed🙏 https://t.co/MsNtgaoBge</td>\n",
       "      <td>Rafael</td>\n",
       "    </tr>\n",
       "    <tr>\n",
       "      <th>2</th>\n",
       "      <td>1619429223428669440</td>\n",
       "      <td>Ela já ganhou https://t.co/C6yAJvrotF</td>\n",
       "      <td>Rafael</td>\n",
       "    </tr>\n",
       "    <tr>\n",
       "      <th>3</th>\n",
       "      <td>1619128767418613761</td>\n",
       "      <td>Hj foi um dia sensacional de bom, mas agora eu...</td>\n",
       "      <td>Rafael</td>\n",
       "    </tr>\n",
       "    <tr>\n",
       "      <th>4</th>\n",
       "      <td>1619067357724569600</td>\n",
       "      <td>Eu fico indignante que n tenha exposição de po...</td>\n",
       "      <td>Rafael</td>\n",
       "    </tr>\n",
       "    <tr>\n",
       "      <th>...</th>\n",
       "      <td>...</td>\n",
       "      <td>...</td>\n",
       "      <td>...</td>\n",
       "    </tr>\n",
       "    <tr>\n",
       "      <th>85</th>\n",
       "      <td>1614100564253589505</td>\n",
       "      <td>Diabo veste prada: roupa de luxo</td>\n",
       "      <td>Rafael</td>\n",
       "    </tr>\n",
       "    <tr>\n",
       "      <th>86</th>\n",
       "      <td>1614100562345136128</td>\n",
       "      <td>Meu gênero cinematográfico favorito é: mulhere...</td>\n",
       "      <td>Rafael</td>\n",
       "    </tr>\n",
       "    <tr>\n",
       "      <th>87</th>\n",
       "      <td>1614040310895591430</td>\n",
       "      <td>Considerar estudar história da filosofia algo ...</td>\n",
       "      <td>Rafael</td>\n",
       "    </tr>\n",
       "    <tr>\n",
       "      <th>88</th>\n",
       "      <td>1613978193891065856</td>\n",
       "      <td>Encontrei um professor de artes visuais da ufp...</td>\n",
       "      <td>Rafael</td>\n",
       "    </tr>\n",
       "    <tr>\n",
       "      <th>89</th>\n",
       "      <td>1613690258591186947</td>\n",
       "      <td>Eu facilmente conseguiria passar 4 horas falan...</td>\n",
       "      <td>Rafael</td>\n",
       "    </tr>\n",
       "  </tbody>\n",
       "</table>\n",
       "<p>90 rows × 3 columns</p>\n",
       "</div>"
      ],
      "text/plain": [
       "                     ID                                              Tweet  \\\n",
       "0   1619485981350203393  Coisas que pretendo comprar esse ano: um baixo...   \n",
       "1   1619475070879174656                   Blessed🙏 https://t.co/MsNtgaoBge   \n",
       "2   1619429223428669440              Ela já ganhou https://t.co/C6yAJvrotF   \n",
       "3   1619128767418613761  Hj foi um dia sensacional de bom, mas agora eu...   \n",
       "4   1619067357724569600  Eu fico indignante que n tenha exposição de po...   \n",
       "..                  ...                                                ...   \n",
       "85  1614100564253589505                   Diabo veste prada: roupa de luxo   \n",
       "86  1614100562345136128  Meu gênero cinematográfico favorito é: mulhere...   \n",
       "87  1614040310895591430  Considerar estudar história da filosofia algo ...   \n",
       "88  1613978193891065856  Encontrei um professor de artes visuais da ufp...   \n",
       "89  1613690258591186947  Eu facilmente conseguiria passar 4 horas falan...   \n",
       "\n",
       "     Autor  \n",
       "0   Rafael  \n",
       "1   Rafael  \n",
       "2   Rafael  \n",
       "3   Rafael  \n",
       "4   Rafael  \n",
       "..     ...  \n",
       "85  Rafael  \n",
       "86  Rafael  \n",
       "87  Rafael  \n",
       "88  Rafael  \n",
       "89  Rafael  \n",
       "\n",
       "[90 rows x 3 columns]"
      ]
     },
     "execution_count": 81,
     "metadata": {},
     "output_type": "execute_result"
    }
   ],
   "source": [
    "# Retornar usuário\n",
    "user_username = \"rafaelcdesouza4\"\n",
    "userId_client_response = client.get_user(username=user_username)\n",
    "# Extrair o userId do objeto resposta do cliente ao método GET\n",
    "userId = userId_client_response.data.data['id']\n",
    "\n",
    "# Retornar tweets\n",
    "tweets = client.get_users_tweets(id = userId, exclude=['retweets', 'replies'], max_results=100)\n",
    "\n",
    "# Iterar sobre os tweets e appendar na lista\n",
    "lista_tweets = [[tweet.id, tweet.text] for tweet in tweets.data]\n",
    "#for i in tweets[0]:\n",
    "#    lista_tweets.append(str(i))\n",
    "    \n",
    "# Criar DF de tweets\n",
    "df = pd.DataFrame(lista_tweets, columns = ['ID', 'Tweet'])\n",
    "df['Autor'] = 'Rafael'\n",
    "\n",
    "# Mostra df\n",
    "df"
   ]
  },
  {
   "cell_type": "code",
   "execution_count": 84,
   "metadata": {},
   "outputs": [
    {
     "ename": "TooManyRequests",
     "evalue": "429 Too Many Requests\nToo Many Requests",
     "output_type": "error",
     "traceback": [
      "\u001b[1;31m---------------------------------------------------------------------------\u001b[0m",
      "\u001b[1;31mTooManyRequests\u001b[0m                           Traceback (most recent call last)",
      "Cell \u001b[1;32mIn[84], line 2\u001b[0m\n\u001b[0;32m      1\u001b[0m \u001b[39mfor\u001b[39;00m \u001b[39mid\u001b[39m \u001b[39min\u001b[39;00m df[\u001b[39m'\u001b[39m\u001b[39mID\u001b[39m\u001b[39m'\u001b[39m]:\n\u001b[1;32m----> 2\u001b[0m     client\u001b[39m.\u001b[39;49mget_liking_users(\u001b[39mid\u001b[39;49m\u001b[39m=\u001b[39;49mtweets\u001b[39m.\u001b[39;49mdata[\u001b[39m0\u001b[39;49m]\u001b[39m.\u001b[39;49mid)\n",
      "File \u001b[1;32mc:\\Users\\marcu\\Desktop\\Python\\Projetos\\Twitter-Project\\venv\\lib\\site-packages\\tweepy\\client.py:580\u001b[0m, in \u001b[0;36mClient.get_liking_users\u001b[1;34m(self, id, user_auth, **params)\u001b[0m\n\u001b[0;32m    531\u001b[0m \u001b[39mdef\u001b[39;00m \u001b[39mget_liking_users\u001b[39m(\u001b[39mself\u001b[39m, \u001b[39mid\u001b[39m, \u001b[39m*\u001b[39m, user_auth\u001b[39m=\u001b[39m\u001b[39mFalse\u001b[39;00m, \u001b[39m*\u001b[39m\u001b[39m*\u001b[39mparams):\n\u001b[0;32m    532\u001b[0m \u001b[39m    \u001b[39m\u001b[39m\"\"\"get_liking_users( \\\u001b[39;00m\n\u001b[0;32m    533\u001b[0m \u001b[39m        id, *, expansions=None, max_results=None, media_fields=None, \\\u001b[39;00m\n\u001b[0;32m    534\u001b[0m \u001b[39m        pagination_token=None, place_fields=None, poll_fields=None, \\\u001b[39;00m\n\u001b[1;32m   (...)\u001b[0m\n\u001b[0;32m    578\u001b[0m \u001b[39m    https://developer.twitter.com/en/docs/twitter-api/tweets/likes/api-reference/get-tweets-id-liking_users\u001b[39;00m\n\u001b[0;32m    579\u001b[0m \u001b[39m    \"\"\"\u001b[39;00m\n\u001b[1;32m--> 580\u001b[0m     \u001b[39mreturn\u001b[39;00m \u001b[39mself\u001b[39;49m\u001b[39m.\u001b[39;49m_make_request(\n\u001b[0;32m    581\u001b[0m         \u001b[39m\"\u001b[39;49m\u001b[39mGET\u001b[39;49m\u001b[39m\"\u001b[39;49m, \u001b[39mf\u001b[39;49m\u001b[39m\"\u001b[39;49m\u001b[39m/2/tweets/\u001b[39;49m\u001b[39m{\u001b[39;49;00m\u001b[39mid\u001b[39;49m\u001b[39m}\u001b[39;49;00m\u001b[39m/liking_users\u001b[39;49m\u001b[39m\"\u001b[39;49m, params\u001b[39m=\u001b[39;49mparams,\n\u001b[0;32m    582\u001b[0m         endpoint_parameters\u001b[39m=\u001b[39;49m(\n\u001b[0;32m    583\u001b[0m             \u001b[39m\"\u001b[39;49m\u001b[39mexpansions\u001b[39;49m\u001b[39m\"\u001b[39;49m, \u001b[39m\"\u001b[39;49m\u001b[39mmax_results\u001b[39;49m\u001b[39m\"\u001b[39;49m, \u001b[39m\"\u001b[39;49m\u001b[39mmedia.fields\u001b[39;49m\u001b[39m\"\u001b[39;49m,\n\u001b[0;32m    584\u001b[0m             \u001b[39m\"\u001b[39;49m\u001b[39mpagination_token\u001b[39;49m\u001b[39m\"\u001b[39;49m, \u001b[39m\"\u001b[39;49m\u001b[39mplace.fields\u001b[39;49m\u001b[39m\"\u001b[39;49m, \u001b[39m\"\u001b[39;49m\u001b[39mpoll.fields\u001b[39;49m\u001b[39m\"\u001b[39;49m,\n\u001b[0;32m    585\u001b[0m             \u001b[39m\"\u001b[39;49m\u001b[39mtweet.fields\u001b[39;49m\u001b[39m\"\u001b[39;49m, \u001b[39m\"\u001b[39;49m\u001b[39muser.fields\u001b[39;49m\u001b[39m\"\u001b[39;49m\n\u001b[0;32m    586\u001b[0m         ), data_type\u001b[39m=\u001b[39;49mUser, user_auth\u001b[39m=\u001b[39;49muser_auth\n\u001b[0;32m    587\u001b[0m     )\n",
      "File \u001b[1;32mc:\\Users\\marcu\\Desktop\\Python\\Projetos\\Twitter-Project\\venv\\lib\\site-packages\\tweepy\\client.py:129\u001b[0m, in \u001b[0;36mBaseClient._make_request\u001b[1;34m(self, method, route, params, endpoint_parameters, json, data_type, user_auth)\u001b[0m\n\u001b[0;32m    123\u001b[0m \u001b[39mdef\u001b[39;00m \u001b[39m_make_request\u001b[39m(\n\u001b[0;32m    124\u001b[0m     \u001b[39mself\u001b[39m, method, route, params\u001b[39m=\u001b[39m{}, endpoint_parameters\u001b[39m=\u001b[39m(), json\u001b[39m=\u001b[39m\u001b[39mNone\u001b[39;00m,\n\u001b[0;32m    125\u001b[0m     data_type\u001b[39m=\u001b[39m\u001b[39mNone\u001b[39;00m, user_auth\u001b[39m=\u001b[39m\u001b[39mFalse\u001b[39;00m\n\u001b[0;32m    126\u001b[0m ):\n\u001b[0;32m    127\u001b[0m     request_params \u001b[39m=\u001b[39m \u001b[39mself\u001b[39m\u001b[39m.\u001b[39m_process_params(params, endpoint_parameters)\n\u001b[1;32m--> 129\u001b[0m     response \u001b[39m=\u001b[39m \u001b[39mself\u001b[39;49m\u001b[39m.\u001b[39;49mrequest(method, route, params\u001b[39m=\u001b[39;49mrequest_params,\n\u001b[0;32m    130\u001b[0m                             json\u001b[39m=\u001b[39;49mjson, user_auth\u001b[39m=\u001b[39;49muser_auth)\n\u001b[0;32m    132\u001b[0m     \u001b[39mif\u001b[39;00m \u001b[39mself\u001b[39m\u001b[39m.\u001b[39mreturn_type \u001b[39mis\u001b[39;00m requests\u001b[39m.\u001b[39mResponse:\n\u001b[0;32m    133\u001b[0m         \u001b[39mreturn\u001b[39;00m response\n",
      "File \u001b[1;32mc:\\Users\\marcu\\Desktop\\Python\\Projetos\\Twitter-Project\\venv\\lib\\site-packages\\tweepy\\client.py:115\u001b[0m, in \u001b[0;36mBaseClient.request\u001b[1;34m(self, method, route, params, json, user_auth)\u001b[0m\n\u001b[0;32m    113\u001b[0m         \u001b[39mreturn\u001b[39;00m \u001b[39mself\u001b[39m\u001b[39m.\u001b[39mrequest(method, route, params, json, user_auth)\n\u001b[0;32m    114\u001b[0m     \u001b[39melse\u001b[39;00m:\n\u001b[1;32m--> 115\u001b[0m         \u001b[39mraise\u001b[39;00m TooManyRequests(response)\n\u001b[0;32m    116\u001b[0m \u001b[39mif\u001b[39;00m response\u001b[39m.\u001b[39mstatus_code \u001b[39m>\u001b[39m\u001b[39m=\u001b[39m \u001b[39m500\u001b[39m:\n\u001b[0;32m    117\u001b[0m     \u001b[39mraise\u001b[39;00m TwitterServerError(response)\n",
      "\u001b[1;31mTooManyRequests\u001b[0m: 429 Too Many Requests\nToo Many Requests"
     ]
    }
   ],
   "source": [
    "for id in df['ID']:\n",
    "    client.get_liking_users(id=tweets.data[0].id)"
   ]
  },
  {
   "cell_type": "code",
   "execution_count": 83,
   "metadata": {},
   "outputs": [
    {
     "data": {
      "text/plain": [
       "0     1619485981350203393\n",
       "1     1619475070879174656\n",
       "2     1619429223428669440\n",
       "3     1619128767418613761\n",
       "4     1619067357724569600\n",
       "             ...         \n",
       "85    1614100564253589505\n",
       "86    1614100562345136128\n",
       "87    1614040310895591430\n",
       "88    1613978193891065856\n",
       "89    1613690258591186947\n",
       "Name: ID, Length: 90, dtype: int64"
      ]
     },
     "execution_count": 83,
     "metadata": {},
     "output_type": "execute_result"
    }
   ],
   "source": [
    "df['ID']"
   ]
  },
  {
   "cell_type": "code",
   "execution_count": 44,
   "metadata": {},
   "outputs": [
    {
     "data": {
      "text/plain": [
       "<bound method Client.get_all_tweets_count of <tweepy.client.Client object at 0x0000012B37841760>>"
      ]
     },
     "execution_count": 44,
     "metadata": {},
     "output_type": "execute_result"
    }
   ],
   "source": []
  }
 ],
 "metadata": {
  "kernelspec": {
   "display_name": "venv",
   "language": "python",
   "name": "python3"
  },
  "language_info": {
   "codemirror_mode": {
    "name": "ipython",
    "version": 3
   },
   "file_extension": ".py",
   "mimetype": "text/x-python",
   "name": "python",
   "nbconvert_exporter": "python",
   "pygments_lexer": "ipython3",
   "version": "3.9.7"
  },
  "orig_nbformat": 4,
  "vscode": {
   "interpreter": {
    "hash": "b2dac3daa0230311fe8989d48f57fd44ec736a0aa3a0dc5a2ca9c8f25e576a1e"
   }
  }
 },
 "nbformat": 4,
 "nbformat_minor": 2
}
